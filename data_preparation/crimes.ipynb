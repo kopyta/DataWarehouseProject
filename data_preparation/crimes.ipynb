{
 "cells": [
  {
   "cell_type": "code",
   "execution_count": null,
   "metadata": {},
   "outputs": [
    {
     "name": "stderr",
     "output_type": "stream",
     "text": [
      "c:\\Anaconda3\\lib\\site-packages\\numpy\\_distributor_init.py:30: UserWarning: loaded more than 1 DLL from .libs:\n",
      "c:\\Anaconda3\\lib\\site-packages\\numpy\\.libs\\libopenblas.NOIJJG62EMASZI6NYURL6JBKM4EVBGM7.gfortran-win_amd64.dll\n",
      "c:\\Anaconda3\\lib\\site-packages\\numpy\\.libs\\libopenblas.QVLO2T66WEPI7JZ63PS3HMOHFEY472BC.gfortran-win_amd64.dll\n",
      "c:\\Anaconda3\\lib\\site-packages\\numpy\\.libs\\libopenblas64__v0.3.21-gcc_10_3_0.dll\n",
      "  warnings.warn(\"loaded more than 1 DLL from .libs:\"\n"
     ]
    }
   ],
   "source": [
    "import pandas as pd\n",
    "import numpy as np\n",
    "import os"
   ]
  },
  {
   "cell_type": "code",
   "execution_count": 10,
   "metadata": {},
   "outputs": [
    {
     "name": "stdout",
     "output_type": "stream",
     "text": [
      "d:\\MINI\\sem_8\\HD\\DataWarehouseProject\\data_preparation\\csv\\crime.csv\n"
     ]
    }
   ],
   "source": [
    "current_dir = os.getcwd()\n",
    "crime_path = os.path.join(current_dir, \"csv\", \"crime.csv\")\n",
    "print(crime_path)"
   ]
  },
  {
   "cell_type": "code",
   "execution_count": 11,
   "metadata": {},
   "outputs": [],
   "source": [
    "# df = pd.read_csv(crime_path)\n",
    "# df_sample = df.head(1000).copy()\n",
    "# df_sample.to_csv(\"csv/crime_sample.csv\")"
   ]
  },
  {
   "cell_type": "markdown",
   "metadata": {},
   "source": [
    "## EDA"
   ]
  },
  {
   "cell_type": "code",
   "execution_count": null,
   "metadata": {},
   "outputs": [],
   "source": [
    "df = pd.read_csv('csv/crime_sample.csv')"
   ]
  },
  {
   "cell_type": "code",
   "execution_count": 14,
   "metadata": {},
   "outputs": [
    {
     "data": {
      "text/plain": [
       "0    13\n",
       "1    14\n",
       "2    13\n",
       "3     6\n",
       "4     1\n",
       "Name: AREA , dtype: int64"
      ]
     },
     "execution_count": 14,
     "metadata": {},
     "output_type": "execute_result"
    }
   ],
   "source": [
    "df['AREA '].head()"
   ]
  },
  {
   "cell_type": "code",
   "execution_count": 6,
   "metadata": {},
   "outputs": [
    {
     "data": {
      "text/plain": [
       "Unnamed: 0                                             0\n",
       "DR_NO                                            1307355\n",
       "Date Rptd                         02/20/2010 12:00:00 AM\n",
       "DATE OCC                          02/20/2010 12:00:00 AM\n",
       "TIME OCC                                            1350\n",
       "AREA                                                  13\n",
       "AREA NAME                                         Newton\n",
       "Rpt Dist No                                         1385\n",
       "Part 1-2                                               2\n",
       "Crm Cd                                               900\n",
       "Crm Cd Desc                     VIOLATION OF COURT ORDER\n",
       "Mocodes                                   0913 1814 2000\n",
       "Vict Age                                              48\n",
       "Vict Sex                                               M\n",
       "Vict Descent                                           H\n",
       "Premis Cd                                          501.0\n",
       "Premis Desc                       SINGLE FAMILY DWELLING\n",
       "Weapon Used Cd                                       NaN\n",
       "Weapon Desc                                          NaN\n",
       "Status                                                AA\n",
       "Status Desc                                 Adult Arrest\n",
       "Crm Cd 1                                           900.0\n",
       "Crm Cd 2                                             NaN\n",
       "Crm Cd 3                                             NaN\n",
       "Crm Cd 4                                             NaN\n",
       "LOCATION          300 E  GAGE                         AV\n",
       "Cross Street                                         NaN\n",
       "LAT                                              33.9825\n",
       "LON                                            -118.2695\n",
       "Name: 0, dtype: object"
      ]
     },
     "execution_count": 6,
     "metadata": {},
     "output_type": "execute_result"
    }
   ],
   "source": [
    "df.iloc[0, :]"
   ]
  }
 ],
 "metadata": {
  "kernelspec": {
   "display_name": "base",
   "language": "python",
   "name": "python3"
  },
  "language_info": {
   "codemirror_mode": {
    "name": "ipython",
    "version": 3
   },
   "file_extension": ".py",
   "mimetype": "text/x-python",
   "name": "python",
   "nbconvert_exporter": "python",
   "pygments_lexer": "ipython3",
   "version": "3.8.15"
  }
 },
 "nbformat": 4,
 "nbformat_minor": 2
}
