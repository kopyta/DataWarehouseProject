{
 "cells": [
  {
   "cell_type": "code",
   "execution_count": 1,
   "metadata": {},
   "outputs": [
    {
     "name": "stderr",
     "output_type": "stream",
     "text": [
      "c:\\Anaconda3\\lib\\site-packages\\numpy\\_distributor_init.py:30: UserWarning: loaded more than 1 DLL from .libs:\n",
      "c:\\Anaconda3\\lib\\site-packages\\numpy\\.libs\\libopenblas.NOIJJG62EMASZI6NYURL6JBKM4EVBGM7.gfortran-win_amd64.dll\n",
      "c:\\Anaconda3\\lib\\site-packages\\numpy\\.libs\\libopenblas.QVLO2T66WEPI7JZ63PS3HMOHFEY472BC.gfortran-win_amd64.dll\n",
      "c:\\Anaconda3\\lib\\site-packages\\numpy\\.libs\\libopenblas64__v0.3.21-gcc_10_3_0.dll\n",
      "  warnings.warn(\"loaded more than 1 DLL from .libs:\"\n"
     ]
    }
   ],
   "source": [
    "import pandas as pd\n",
    "import datetime as dt"
   ]
  },
  {
   "cell_type": "code",
   "execution_count": 2,
   "metadata": {},
   "outputs": [
    {
     "name": "stderr",
     "output_type": "stream",
     "text": [
      "c:\\Anaconda3\\lib\\site-packages\\ucimlrepo\\fetch.py:97: DtypeWarning: Columns (0,5,6,12,14,15) have mixed types. Specify dtype option on import or set low_memory=False.\n",
      "  df = pd.read_csv(data_url)\n"
     ]
    },
    {
     "name": "stdout",
     "output_type": "stream",
     "text": [
      "{'uci_id': 555, 'name': 'Apartment for Rent Classified', 'repository_url': 'https://archive.ics.uci.edu/dataset/555/apartment+for+rent+classified', 'data_url': 'https://archive.ics.uci.edu/static/public/555/data.csv', 'abstract': 'This is a dataset of classified for apartments for rent in USA.\\n', 'area': 'Business', 'tasks': ['Classification', 'Regression', 'Clustering'], 'characteristics': ['Multivariate'], 'num_instances': 10000, 'num_features': 21, 'feature_types': ['Categorical', 'Integer'], 'demographics': [], 'target_col': None, 'index_col': ['id'], 'has_missing_values': 'no', 'missing_values_symbol': None, 'year_of_dataset_creation': 2019, 'last_updated': 'Mon Feb 26 2024', 'dataset_doi': '10.24432/C5X623', 'creators': [], 'intro_paper': None, 'additional_info': {'summary': \"The dataset contains of 10'000 or 100'000 rows and of 22 columns The data has been cleaned in the way that \\r\\ncolumn price and square_feet never is empty but the dataset is saved as it was created.\\r\\n\\r\\nCan be used for different machine learning tasks such as clustering, classification and also regression for the squares feet column\", 'purpose': None, 'funded_by': None, 'instances_represent': None, 'recommended_data_splits': None, 'sensitive_data': None, 'preprocessing_description': None, 'variable_info': 'id = unique identifier of apartment\\ncategory = category of classified\\ntitle = title text of apartment\\nbody = body text of apartment\\namenities = like AC, basketball,cable, gym, internet access, pool, refrigerator etc.\\nbathrooms = number of bathrooms\\nbedrooms = number of bedrooms\\ncurrency = price in current\\nfee = fee\\nhas_photo = photo of apartment\\npets_allowed = what pets are allowed dogs/cats etc.\\nprice = rental price of apartment\\nprice_display = price converted into display for reader\\nprice_type = price in USD\\nsquare_feet = size of the apartment\\naddress =  where the apartment is located\\ncityname =  where the apartment is located\\nstate =  where the apartment is located\\nlatitude = where the apartment is located\\nlongitude = where the apartment is located\\nsource = origin of classified\\ntime = when classified was created', 'citation': None}}\n",
      "             name     role         type demographic description units  \\\n",
      "0              id       ID      Integer        None        None  None   \n",
      "1        category  Feature  Categorical        None        None  None   \n",
      "2           title  Feature  Categorical        None        None  None   \n",
      "3            body  Feature  Categorical        None        None  None   \n",
      "4       amenities  Feature  Categorical        None        None  None   \n",
      "5       bathrooms  Feature      Integer        None        None  None   \n",
      "6        bedrooms  Feature  Categorical        None        None  None   \n",
      "7        currency  Feature  Categorical        None        None  None   \n",
      "8             fee  Feature  Categorical        None        None  None   \n",
      "9       has_photo  Feature  Categorical        None        None  None   \n",
      "10   pets_allowed  Feature  Categorical        None        None  None   \n",
      "11          price  Feature      Integer        None        None  None   \n",
      "12  price_display  Feature      Integer        None        None  None   \n",
      "13     price_type  Feature  Categorical        None        None  None   \n",
      "14    square_feet  Feature  Categorical        None        None  None   \n",
      "15        address  Feature  Categorical        None        None  None   \n",
      "16       cityname  Feature  Categorical        None        None  None   \n",
      "17          state  Feature      Integer        None        None  None   \n",
      "18       latitude  Feature      Integer        None        None  None   \n",
      "19      longitude  Feature  Categorical        None        None  None   \n",
      "20         source  Feature      Integer        None        None  None   \n",
      "21           time  Feature  Categorical        None        None  None   \n",
      "\n",
      "   missing_values  \n",
      "0              no  \n",
      "1              no  \n",
      "2              no  \n",
      "3              no  \n",
      "4              no  \n",
      "5              no  \n",
      "6              no  \n",
      "7              no  \n",
      "8              no  \n",
      "9              no  \n",
      "10             no  \n",
      "11             no  \n",
      "12             no  \n",
      "13             no  \n",
      "14             no  \n",
      "15             no  \n",
      "16             no  \n",
      "17             no  \n",
      "18             no  \n",
      "19             no  \n",
      "20             no  \n",
      "21             no  \n"
     ]
    }
   ],
   "source": [
    "from ucimlrepo import fetch_ucirepo \n",
    "  \n",
    "# fetch dataset \n",
    "apartment_for_rent_classified = fetch_ucirepo(id=555) \n",
    "  \n",
    "# data (as pandas dataframes) \n",
    "X = apartment_for_rent_classified.data.features # it's a full dataset since target is not defined\n",
    "\n",
    "# metadata \n",
    "print(apartment_for_rent_classified.metadata) \n",
    "  \n",
    "# variable information \n",
    "print(apartment_for_rent_classified.variables) "
   ]
  },
  {
   "cell_type": "code",
   "execution_count": 3,
   "metadata": {},
   "outputs": [
    {
     "name": "stdout",
     "output_type": "stream",
     "text": [
      "(99826, 21)\n"
     ]
    }
   ],
   "source": [
    "print(X.shape)"
   ]
  },
  {
   "cell_type": "code",
   "execution_count": 4,
   "metadata": {},
   "outputs": [
    {
     "name": "stderr",
     "output_type": "stream",
     "text": [
      "C:\\Users\\tymek\\AppData\\Local\\Temp\\ipykernel_30684\\2797288698.py:1: SettingWithCopyWarning: \n",
      "A value is trying to be set on a copy of a slice from a DataFrame.\n",
      "Try using .loc[row_indexer,col_indexer] = value instead\n",
      "\n",
      "See the caveats in the documentation: https://pandas.pydata.org/pandas-docs/stable/user_guide/indexing.html#returning-a-view-versus-a-copy\n",
      "  X['time'] = pd.to_datetime(X['time'], unit = \"s\")\n"
     ]
    }
   ],
   "source": [
    "X['time'] = pd.to_datetime(X['time'], unit = \"s\")\n",
    "df_sample = X.head(1000).copy()"
   ]
  },
  {
   "cell_type": "code",
   "execution_count": 7,
   "metadata": {},
   "outputs": [],
   "source": [
    "# df_sample.to_csv(\"csv/apartments_sample.csv\")"
   ]
  },
  {
   "cell_type": "code",
   "execution_count": 6,
   "metadata": {},
   "outputs": [
    {
     "data": {
      "text/plain": [
       "11"
      ]
     },
     "execution_count": 6,
     "metadata": {},
     "output_type": "execute_result"
    }
   ],
   "source": [
    "(df_sample['cityname'] == \"Los Angeles\").sum()"
   ]
  },
  {
   "cell_type": "code",
   "execution_count": 9,
   "metadata": {},
   "outputs": [],
   "source": [
    "X.to_csv(\"csv/apartments.csv\")"
   ]
  },
  {
   "cell_type": "code",
   "execution_count": 4,
   "metadata": {},
   "outputs": [],
   "source": [
    "df_LA = X.loc[lambda x: x[\"cityname\"] == \"Los Angeles\"].copy()\n"
   ]
  },
  {
   "cell_type": "code",
   "execution_count": 51,
   "metadata": {},
   "outputs": [],
   "source": [
    "df_test = df_LA.loc[lambda x: (x['latitude'] == 33.9550) & (x['longitude'] == -118.3967)]"
   ]
  },
  {
   "cell_type": "code",
   "execution_count": 52,
   "metadata": {},
   "outputs": [
    {
     "data": {
      "text/plain": [
       "latitude  longitude\n",
       "33.9550   -118.3967    155\n",
       "34.0530   -118.2637    119\n",
       "34.0394   -118.2656    105\n",
       "dtype: int64"
      ]
     },
     "execution_count": 52,
     "metadata": {},
     "output_type": "execute_result"
    }
   ],
   "source": [
    "df_LA.groupby(['latitude', 'longitude']).size().sort_values(ascending = False).head(3)"
   ]
  },
  {
   "cell_type": "code",
   "execution_count": 60,
   "metadata": {},
   "outputs": [
    {
     "data": {
      "text/plain": [
       "RentDigs.com    2321\n",
       "RentLingo        103\n",
       "GoSection8         4\n",
       "RENTOCULAR         2\n",
       "Listanza           2\n",
       "RealRentals        1\n",
       "RENTCaf            1\n",
       "Name: source, dtype: int64"
      ]
     },
     "execution_count": 60,
     "metadata": {},
     "output_type": "execute_result"
    }
   ],
   "source": [
    "df_LA['source'].value_counts()"
   ]
  },
  {
   "cell_type": "code",
   "execution_count": 56,
   "metadata": {},
   "outputs": [
    {
     "data": {
      "text/plain": [
       "address          0.949055\n",
       "pets_allowed     0.603533\n",
       "amenities        0.137223\n",
       "bedrooms         0.012736\n",
       "bathrooms        0.000411\n",
       "category         0.000000\n",
       "square_feet      0.000000\n",
       "source           0.000000\n",
       "longitude        0.000000\n",
       "latitude         0.000000\n",
       "state            0.000000\n",
       "cityname         0.000000\n",
       "price            0.000000\n",
       "price_type       0.000000\n",
       "price_display    0.000000\n",
       "title            0.000000\n",
       "has_photo        0.000000\n",
       "fee              0.000000\n",
       "currency         0.000000\n",
       "body             0.000000\n",
       "time             0.000000\n",
       "dtype: float64"
      ]
     },
     "execution_count": 56,
     "metadata": {},
     "output_type": "execute_result"
    }
   ],
   "source": [
    "df_LA.isna().mean().sort_values(ascending = False)"
   ]
  },
  {
   "cell_type": "code",
   "execution_count": 62,
   "metadata": {},
   "outputs": [
    {
     "data": {
      "text/html": [
       "<div>\n",
       "<style scoped>\n",
       "    .dataframe tbody tr th:only-of-type {\n",
       "        vertical-align: middle;\n",
       "    }\n",
       "\n",
       "    .dataframe tbody tr th {\n",
       "        vertical-align: top;\n",
       "    }\n",
       "\n",
       "    .dataframe thead th {\n",
       "        text-align: right;\n",
       "    }\n",
       "</style>\n",
       "<table border=\"1\" class=\"dataframe\">\n",
       "  <thead>\n",
       "    <tr style=\"text-align: right;\">\n",
       "      <th></th>\n",
       "      <th>bathrooms</th>\n",
       "      <th>bedrooms</th>\n",
       "    </tr>\n",
       "  </thead>\n",
       "  <tbody>\n",
       "    <tr>\n",
       "      <th>7300</th>\n",
       "      <td>2</td>\n",
       "      <td>2</td>\n",
       "    </tr>\n",
       "    <tr>\n",
       "      <th>8280</th>\n",
       "      <td>1</td>\n",
       "      <td>1</td>\n",
       "    </tr>\n",
       "    <tr>\n",
       "      <th>9226</th>\n",
       "      <td>2</td>\n",
       "      <td>2</td>\n",
       "    </tr>\n",
       "    <tr>\n",
       "      <th>9228</th>\n",
       "      <td>2</td>\n",
       "      <td>2</td>\n",
       "    </tr>\n",
       "    <tr>\n",
       "      <th>9235</th>\n",
       "      <td>1</td>\n",
       "      <td>1</td>\n",
       "    </tr>\n",
       "    <tr>\n",
       "      <th>...</th>\n",
       "      <td>...</td>\n",
       "      <td>...</td>\n",
       "    </tr>\n",
       "    <tr>\n",
       "      <th>49500</th>\n",
       "      <td>2</td>\n",
       "      <td>2</td>\n",
       "    </tr>\n",
       "    <tr>\n",
       "      <th>49747</th>\n",
       "      <td>2</td>\n",
       "      <td>2</td>\n",
       "    </tr>\n",
       "    <tr>\n",
       "      <th>49748</th>\n",
       "      <td>2</td>\n",
       "      <td>3</td>\n",
       "    </tr>\n",
       "    <tr>\n",
       "      <th>49750</th>\n",
       "      <td>2</td>\n",
       "      <td>2</td>\n",
       "    </tr>\n",
       "    <tr>\n",
       "      <th>49752</th>\n",
       "      <td>1</td>\n",
       "      <td>1</td>\n",
       "    </tr>\n",
       "  </tbody>\n",
       "</table>\n",
       "<p>155 rows × 2 columns</p>\n",
       "</div>"
      ],
      "text/plain": [
       "      bathrooms bedrooms\n",
       "7300          2        2\n",
       "8280          1        1\n",
       "9226          2        2\n",
       "9228          2        2\n",
       "9235          1        1\n",
       "...         ...      ...\n",
       "49500         2        2\n",
       "49747         2        2\n",
       "49748         2        3\n",
       "49750         2        2\n",
       "49752         1        1\n",
       "\n",
       "[155 rows x 2 columns]"
      ]
     },
     "execution_count": 62,
     "metadata": {},
     "output_type": "execute_result"
    }
   ],
   "source": [
    "df_test[['bathrooms', 'bedrooms']]"
   ]
  },
  {
   "cell_type": "code",
   "execution_count": 66,
   "metadata": {},
   "outputs": [
    {
     "data": {
      "text/plain": [
       "700     8\n",
       "897     7\n",
       "762     7\n",
       "801     5\n",
       "960     5\n",
       "       ..\n",
       "1125    1\n",
       "300     1\n",
       "1282    1\n",
       "1003    1\n",
       "1176    1\n",
       "Name: square_feet, Length: 78, dtype: int64"
      ]
     },
     "execution_count": 66,
     "metadata": {},
     "output_type": "execute_result"
    }
   ],
   "source": [
    "df_test['square_feet'].value_counts().sort_values(ascending = False)"
   ]
  },
  {
   "cell_type": "code",
   "execution_count": 68,
   "metadata": {},
   "outputs": [
    {
     "data": {
      "text/plain": [
       "category                 object\n",
       "title                    object\n",
       "body                     object\n",
       "amenities                object\n",
       "bathrooms                object\n",
       "bedrooms                 object\n",
       "currency                 object\n",
       "fee                      object\n",
       "has_photo                object\n",
       "pets_allowed             object\n",
       "price                   float64\n",
       "price_display            object\n",
       "price_type               object\n",
       "square_feet              object\n",
       "address                  object\n",
       "cityname                 object\n",
       "state                    object\n",
       "latitude                float64\n",
       "longitude               float64\n",
       "source                   object\n",
       "time             datetime64[ns]\n",
       "dtype: object"
      ]
     },
     "execution_count": 68,
     "metadata": {},
     "output_type": "execute_result"
    }
   ],
   "source": [
    "df_test.dtypes"
   ]
  },
  {
   "cell_type": "code",
   "execution_count": 69,
   "metadata": {},
   "outputs": [
    {
     "data": {
      "text/html": [
       "<div>\n",
       "<style scoped>\n",
       "    .dataframe tbody tr th:only-of-type {\n",
       "        vertical-align: middle;\n",
       "    }\n",
       "\n",
       "    .dataframe tbody tr th {\n",
       "        vertical-align: top;\n",
       "    }\n",
       "\n",
       "    .dataframe thead th {\n",
       "        text-align: right;\n",
       "    }\n",
       "</style>\n",
       "<table border=\"1\" class=\"dataframe\">\n",
       "  <thead>\n",
       "    <tr style=\"text-align: right;\">\n",
       "      <th></th>\n",
       "      <th>category</th>\n",
       "      <th>title</th>\n",
       "      <th>body</th>\n",
       "      <th>amenities</th>\n",
       "      <th>bathrooms</th>\n",
       "      <th>bedrooms</th>\n",
       "      <th>currency</th>\n",
       "      <th>fee</th>\n",
       "      <th>has_photo</th>\n",
       "      <th>pets_allowed</th>\n",
       "      <th>...</th>\n",
       "      <th>price_display</th>\n",
       "      <th>price_type</th>\n",
       "      <th>square_feet</th>\n",
       "      <th>address</th>\n",
       "      <th>cityname</th>\n",
       "      <th>state</th>\n",
       "      <th>latitude</th>\n",
       "      <th>longitude</th>\n",
       "      <th>source</th>\n",
       "      <th>time</th>\n",
       "    </tr>\n",
       "  </thead>\n",
       "  <tbody>\n",
       "    <tr>\n",
       "      <th>8280</th>\n",
       "      <td>housing/rent/apartment</td>\n",
       "      <td>Bright Los Angeles, One BR, One BA for rent</td>\n",
       "      <td>Square footage: 700 square feet, unit number: ...</td>\n",
       "      <td>AC,Cable or Satellite,Clubhouse,Dishwasher,Ele...</td>\n",
       "      <td>1</td>\n",
       "      <td>1</td>\n",
       "      <td>USD</td>\n",
       "      <td>No</td>\n",
       "      <td>Thumbnail</td>\n",
       "      <td>Cats</td>\n",
       "      <td>...</td>\n",
       "      <td>2325</td>\n",
       "      <td>Monthly</td>\n",
       "      <td>700</td>\n",
       "      <td>NaN</td>\n",
       "      <td>Los Angeles</td>\n",
       "      <td>CA</td>\n",
       "      <td>33.955</td>\n",
       "      <td>-118.3967</td>\n",
       "      <td>RentDigs.com</td>\n",
       "      <td>2019-09-17 21:27:58</td>\n",
       "    </tr>\n",
       "    <tr>\n",
       "      <th>13983</th>\n",
       "      <td>housing/rent/apartment</td>\n",
       "      <td>Los Angeles, prime location One BR, Apartment....</td>\n",
       "      <td>Square footage: 700 square feet, unit number: ...</td>\n",
       "      <td>AC,Cable or Satellite,Clubhouse,Dishwasher,Ele...</td>\n",
       "      <td>1</td>\n",
       "      <td>1</td>\n",
       "      <td>USD</td>\n",
       "      <td>No</td>\n",
       "      <td>Yes</td>\n",
       "      <td>Cats</td>\n",
       "      <td>...</td>\n",
       "      <td>2325</td>\n",
       "      <td>Monthly</td>\n",
       "      <td>700</td>\n",
       "      <td>NaN</td>\n",
       "      <td>Los Angeles</td>\n",
       "      <td>CA</td>\n",
       "      <td>33.955</td>\n",
       "      <td>-118.3967</td>\n",
       "      <td>RentDigs.com</td>\n",
       "      <td>2019-09-17 21:25:47</td>\n",
       "    </tr>\n",
       "    <tr>\n",
       "      <th>22660</th>\n",
       "      <td>housing/rent/apartment</td>\n",
       "      <td>Over 700 sf in Los Angeles</td>\n",
       "      <td>Square footage: 700 square feet, unit number: ...</td>\n",
       "      <td>Clubhouse,Parking,Pool</td>\n",
       "      <td>1</td>\n",
       "      <td>1</td>\n",
       "      <td>USD</td>\n",
       "      <td>No</td>\n",
       "      <td>Thumbnail</td>\n",
       "      <td>NaN</td>\n",
       "      <td>...</td>\n",
       "      <td>2765</td>\n",
       "      <td>Monthly</td>\n",
       "      <td>700</td>\n",
       "      <td>NaN</td>\n",
       "      <td>Los Angeles</td>\n",
       "      <td>CA</td>\n",
       "      <td>33.955</td>\n",
       "      <td>-118.3967</td>\n",
       "      <td>RentDigs.com</td>\n",
       "      <td>2019-09-17 21:24:30</td>\n",
       "    </tr>\n",
       "    <tr>\n",
       "      <th>24080</th>\n",
       "      <td>housing/rent/apartment</td>\n",
       "      <td>Apartment in prime location</td>\n",
       "      <td>Square footage: 700 square feet, unit number: ...</td>\n",
       "      <td>Clubhouse,Parking,Pool</td>\n",
       "      <td>1</td>\n",
       "      <td>1</td>\n",
       "      <td>USD</td>\n",
       "      <td>No</td>\n",
       "      <td>Yes</td>\n",
       "      <td>NaN</td>\n",
       "      <td>...</td>\n",
       "      <td>2745</td>\n",
       "      <td>Monthly</td>\n",
       "      <td>700</td>\n",
       "      <td>NaN</td>\n",
       "      <td>Los Angeles</td>\n",
       "      <td>CA</td>\n",
       "      <td>33.955</td>\n",
       "      <td>-118.3967</td>\n",
       "      <td>RentDigs.com</td>\n",
       "      <td>2019-09-17 21:29:24</td>\n",
       "    </tr>\n",
       "    <tr>\n",
       "      <th>26981</th>\n",
       "      <td>housing/rent/apartment</td>\n",
       "      <td>Spacious One BR, One BA</td>\n",
       "      <td>Apartment homes in West have never been easier...</td>\n",
       "      <td>AC,Cable or Satellite,Clubhouse,Dishwasher,Ele...</td>\n",
       "      <td>1</td>\n",
       "      <td>1</td>\n",
       "      <td>USD</td>\n",
       "      <td>No</td>\n",
       "      <td>Yes</td>\n",
       "      <td>Cats</td>\n",
       "      <td>...</td>\n",
       "      <td>2325</td>\n",
       "      <td>Monthly</td>\n",
       "      <td>700</td>\n",
       "      <td>NaN</td>\n",
       "      <td>Los Angeles</td>\n",
       "      <td>CA</td>\n",
       "      <td>33.955</td>\n",
       "      <td>-118.3967</td>\n",
       "      <td>RentDigs.com</td>\n",
       "      <td>2019-09-17 21:20:27</td>\n",
       "    </tr>\n",
       "    <tr>\n",
       "      <th>39050</th>\n",
       "      <td>housing/rent/apartment</td>\n",
       "      <td>One BA \\ $2,450/mo - ready to move in.</td>\n",
       "      <td>Apartment homes in West have never been easier...</td>\n",
       "      <td>AC,Cable or Satellite,Clubhouse,Dishwasher,Ele...</td>\n",
       "      <td>1</td>\n",
       "      <td>1</td>\n",
       "      <td>USD</td>\n",
       "      <td>No</td>\n",
       "      <td>Yes</td>\n",
       "      <td>Cats</td>\n",
       "      <td>...</td>\n",
       "      <td>2450</td>\n",
       "      <td>Monthly</td>\n",
       "      <td>700</td>\n",
       "      <td>NaN</td>\n",
       "      <td>Los Angeles</td>\n",
       "      <td>CA</td>\n",
       "      <td>33.955</td>\n",
       "      <td>-118.3967</td>\n",
       "      <td>RentDigs.com</td>\n",
       "      <td>2019-09-17 21:20:41</td>\n",
       "    </tr>\n",
       "    <tr>\n",
       "      <th>41923</th>\n",
       "      <td>housing/rent/apartment</td>\n",
       "      <td>Los Angeles, Great Location, One BR Apartment.</td>\n",
       "      <td>We have a very charming one beds apartment in ...</td>\n",
       "      <td>Parking,Refrigerator,Tennis</td>\n",
       "      <td>1</td>\n",
       "      <td>1</td>\n",
       "      <td>USD</td>\n",
       "      <td>No</td>\n",
       "      <td>Yes</td>\n",
       "      <td>None</td>\n",
       "      <td>...</td>\n",
       "      <td>1850</td>\n",
       "      <td>Monthly</td>\n",
       "      <td>700</td>\n",
       "      <td>NaN</td>\n",
       "      <td>Los Angeles</td>\n",
       "      <td>CA</td>\n",
       "      <td>33.955</td>\n",
       "      <td>-118.3967</td>\n",
       "      <td>RentDigs.com</td>\n",
       "      <td>2019-09-17 21:27:21</td>\n",
       "    </tr>\n",
       "    <tr>\n",
       "      <th>41959</th>\n",
       "      <td>housing/rent/apartment</td>\n",
       "      <td>Move-in condition, One BR One BA. Single Car G...</td>\n",
       "      <td>Square footage: 700 square ft, unit number: 54...</td>\n",
       "      <td>Clubhouse,Parking,Pool</td>\n",
       "      <td>1</td>\n",
       "      <td>1</td>\n",
       "      <td>USD</td>\n",
       "      <td>No</td>\n",
       "      <td>Yes</td>\n",
       "      <td>NaN</td>\n",
       "      <td>...</td>\n",
       "      <td>2755</td>\n",
       "      <td>Monthly</td>\n",
       "      <td>700</td>\n",
       "      <td>NaN</td>\n",
       "      <td>Los Angeles</td>\n",
       "      <td>CA</td>\n",
       "      <td>33.955</td>\n",
       "      <td>-118.3967</td>\n",
       "      <td>RentDigs.com</td>\n",
       "      <td>2019-09-17 21:24:33</td>\n",
       "    </tr>\n",
       "  </tbody>\n",
       "</table>\n",
       "<p>8 rows × 21 columns</p>\n",
       "</div>"
      ],
      "text/plain": [
       "                     category  \\\n",
       "8280   housing/rent/apartment   \n",
       "13983  housing/rent/apartment   \n",
       "22660  housing/rent/apartment   \n",
       "24080  housing/rent/apartment   \n",
       "26981  housing/rent/apartment   \n",
       "39050  housing/rent/apartment   \n",
       "41923  housing/rent/apartment   \n",
       "41959  housing/rent/apartment   \n",
       "\n",
       "                                                   title  \\\n",
       "8280         Bright Los Angeles, One BR, One BA for rent   \n",
       "13983  Los Angeles, prime location One BR, Apartment....   \n",
       "22660                         Over 700 sf in Los Angeles   \n",
       "24080                        Apartment in prime location   \n",
       "26981                            Spacious One BR, One BA   \n",
       "39050             One BA \\ $2,450/mo - ready to move in.   \n",
       "41923     Los Angeles, Great Location, One BR Apartment.   \n",
       "41959  Move-in condition, One BR One BA. Single Car G...   \n",
       "\n",
       "                                                    body  \\\n",
       "8280   Square footage: 700 square feet, unit number: ...   \n",
       "13983  Square footage: 700 square feet, unit number: ...   \n",
       "22660  Square footage: 700 square feet, unit number: ...   \n",
       "24080  Square footage: 700 square feet, unit number: ...   \n",
       "26981  Apartment homes in West have never been easier...   \n",
       "39050  Apartment homes in West have never been easier...   \n",
       "41923  We have a very charming one beds apartment in ...   \n",
       "41959  Square footage: 700 square ft, unit number: 54...   \n",
       "\n",
       "                                               amenities bathrooms bedrooms  \\\n",
       "8280   AC,Cable or Satellite,Clubhouse,Dishwasher,Ele...         1        1   \n",
       "13983  AC,Cable or Satellite,Clubhouse,Dishwasher,Ele...         1        1   \n",
       "22660                             Clubhouse,Parking,Pool         1        1   \n",
       "24080                             Clubhouse,Parking,Pool         1        1   \n",
       "26981  AC,Cable or Satellite,Clubhouse,Dishwasher,Ele...         1        1   \n",
       "39050  AC,Cable or Satellite,Clubhouse,Dishwasher,Ele...         1        1   \n",
       "41923                        Parking,Refrigerator,Tennis         1        1   \n",
       "41959                             Clubhouse,Parking,Pool         1        1   \n",
       "\n",
       "      currency fee  has_photo pets_allowed  ...  price_display price_type  \\\n",
       "8280       USD  No  Thumbnail         Cats  ...           2325    Monthly   \n",
       "13983      USD  No        Yes         Cats  ...           2325    Monthly   \n",
       "22660      USD  No  Thumbnail          NaN  ...           2765    Monthly   \n",
       "24080      USD  No        Yes          NaN  ...           2745    Monthly   \n",
       "26981      USD  No        Yes         Cats  ...           2325    Monthly   \n",
       "39050      USD  No        Yes         Cats  ...           2450    Monthly   \n",
       "41923      USD  No        Yes         None  ...           1850    Monthly   \n",
       "41959      USD  No        Yes          NaN  ...           2755    Monthly   \n",
       "\n",
       "      square_feet address     cityname state latitude  longitude  \\\n",
       "8280          700     NaN  Los Angeles    CA   33.955  -118.3967   \n",
       "13983         700     NaN  Los Angeles    CA   33.955  -118.3967   \n",
       "22660         700     NaN  Los Angeles    CA   33.955  -118.3967   \n",
       "24080         700     NaN  Los Angeles    CA   33.955  -118.3967   \n",
       "26981         700     NaN  Los Angeles    CA   33.955  -118.3967   \n",
       "39050         700     NaN  Los Angeles    CA   33.955  -118.3967   \n",
       "41923         700     NaN  Los Angeles    CA   33.955  -118.3967   \n",
       "41959         700     NaN  Los Angeles    CA   33.955  -118.3967   \n",
       "\n",
       "             source                time  \n",
       "8280   RentDigs.com 2019-09-17 21:27:58  \n",
       "13983  RentDigs.com 2019-09-17 21:25:47  \n",
       "22660  RentDigs.com 2019-09-17 21:24:30  \n",
       "24080  RentDigs.com 2019-09-17 21:29:24  \n",
       "26981  RentDigs.com 2019-09-17 21:20:27  \n",
       "39050  RentDigs.com 2019-09-17 21:20:41  \n",
       "41923  RentDigs.com 2019-09-17 21:27:21  \n",
       "41959  RentDigs.com 2019-09-17 21:24:33  \n",
       "\n",
       "[8 rows x 21 columns]"
      ]
     },
     "execution_count": 69,
     "metadata": {},
     "output_type": "execute_result"
    }
   ],
   "source": [
    "df_test.loc[lambda x: x['square_feet'].astype(float) == 700]"
   ]
  },
  {
   "cell_type": "code",
   "execution_count": 40,
   "metadata": {},
   "outputs": [],
   "source": [
    "\n",
    "\n",
    "# Unix timestamp\n",
    "timestamp = 1.568755e+09\n",
    "\n",
    "# Convert the timestamp to a datetime object\n",
    "dt_object = pd.to_datetime(dt.datetime.fromtimestamp(timestamp))"
   ]
  },
  {
   "cell_type": "code",
   "execution_count": 41,
   "metadata": {},
   "outputs": [
    {
     "data": {
      "text/plain": [
       "Timestamp('2019-09-17 23:16:40')"
      ]
     },
     "execution_count": 41,
     "metadata": {},
     "output_type": "execute_result"
    }
   ],
   "source": [
    "dt_object"
   ]
  },
  {
   "cell_type": "code",
   "execution_count": 14,
   "metadata": {},
   "outputs": [
    {
     "name": "stdout",
     "output_type": "stream",
     "text": [
      "(2434, 21)\n"
     ]
    },
    {
     "data": {
      "text/plain": [
       "category            0\n",
       "title               0\n",
       "body                0\n",
       "amenities         334\n",
       "bathrooms           1\n",
       "bedrooms           31\n",
       "currency            0\n",
       "fee                 0\n",
       "has_photo           0\n",
       "pets_allowed     1469\n",
       "price               0\n",
       "price_display       0\n",
       "price_type          0\n",
       "square_feet         0\n",
       "address          2310\n",
       "cityname            0\n",
       "state               0\n",
       "latitude            0\n",
       "longitude           0\n",
       "source              0\n",
       "time                0\n",
       "dtype: int64"
      ]
     },
     "execution_count": 14,
     "metadata": {},
     "output_type": "execute_result"
    }
   ],
   "source": [
    "print(df_LA.shape)\n",
    "df_LA.isna().sum()"
   ]
  },
  {
   "cell_type": "code",
   "execution_count": 9,
   "metadata": {},
   "outputs": [],
   "source": [
    "# for i in X.loc[X[\"cityname\"] == \"Los Angeles\", \"amenities\"].unique():\n",
    "#     print(i)"
   ]
  }
 ],
 "metadata": {
  "kernelspec": {
   "display_name": "base",
   "language": "python",
   "name": "python3"
  },
  "language_info": {
   "codemirror_mode": {
    "name": "ipython",
    "version": 3
   },
   "file_extension": ".py",
   "mimetype": "text/x-python",
   "name": "python",
   "nbconvert_exporter": "python",
   "pygments_lexer": "ipython3",
   "version": "3.8.15"
  }
 },
 "nbformat": 4,
 "nbformat_minor": 2
}
